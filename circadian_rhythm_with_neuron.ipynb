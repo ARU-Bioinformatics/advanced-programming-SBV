{
  "nbformat": 4,
  "nbformat_minor": 0,
  "metadata": {
    "colab": {
      "name": "circadian_rhythm_with_neuron.ipynb",
      "provenance": [],
      "collapsed_sections": [],
      "authorship_tag": "ABX9TyPbkBOgmAsbXkMRhSe+VIw6",
      "include_colab_link": true
    },
    "kernelspec": {
      "name": "python3",
      "display_name": "Python 3"
    },
    "language_info": {
      "name": "python"
    }
  },
  "cells": [
    {
      "cell_type": "markdown",
      "metadata": {
        "id": "view-in-github",
        "colab_type": "text"
      },
      "source": [
        "<a href=\"https://colab.research.google.com/github/ARU-Bioinformatics/advanced-programming-SBV/blob/main/circadian_rhythm_with_neuron.ipynb\" target=\"_parent\"><img src=\"https://colab.research.google.com/assets/colab-badge.svg\" alt=\"Open In Colab\"/></a>"
      ]
    },
    {
      "cell_type": "markdown",
      "source": [
        "# Simulating a circadian rhythm with NEURON"
      ],
      "metadata": {
        "id": "aTz_kgVz3HaC"
      }
    },
    {
      "cell_type": "markdown",
      "source": [
        "Leloup, J. C., Gonze, D., & Goldbeter, A. (1999). Limit cycle models for circadian rhythms based on transcriptional regulation in Drosophila and Neurospora. Journal of biological rhythms, 14(6), 433-448. https://doi.org/10.1177/074873099129000948\n",
        "\n",
        "We'll use the initial conditions from the BioModels version: https://www.ebi.ac.uk/biomodels/BIOMD0000000298"
      ],
      "metadata": {
        "id": "TS_G4CUE2XnI"
      }
    },
    {
      "cell_type": "markdown",
      "source": [
        "## Scripting NEURON basics\n",
        "To allow us to perform \"experiments\" in systems space it is useful to start with a system that is well defined from multiple laboratories. There are few good examples of this, but the best is NEURON. The objectives of this part of the tutorial are to get familiar with basic operations of NEURON using Python.\n",
        "\n",
        "### What is NEURON?\n",
        "The NEURON simulation environment is a powerful engine for performing simulations of neurons and biophysical neural networks. It permits the construction of biologically realistic membranes with active and passive ion channels, combined with virtual connectivity and electrophysiology tools to drive and measure neuron and network behaviors.\n",
        "\n",
        "\n"
      ],
      "metadata": {
        "id": "bm4JblIqimGt"
      }
    },
    {
      "cell_type": "markdown",
      "source": [
        "*If you are interesting in doing more with NEURON then you can learn how to simulate a cell here: https://neuron.yale.edu/neuron/docs/scripting-neuron-basics*"
      ],
      "metadata": {
        "id": "IdRNmT-QimLv"
      }
    },
    {
      "cell_type": "markdown",
      "source": [
        "### Step 1: Import the neuron module into Python\n",
        "Any code that is not part of Python's Built-in Functions must be imported. The Python interface to NEURON goes through the neuron module, especially the neuron.h submodule. The neuron module has additional submodules, including neuron.rxd for reaction-diffusion dynamics, neuron.gui2 for Jupyter-compatible PlotShape graphs, and neuron.gui for Interviews-based GUI tools. The neuron.h submodule also allows loading files, executing code, and calling functions written in HOC, an older scripting language supported by NEURON. This allows the continued use of HOC libraries in Python code."
      ],
      "metadata": {
        "id": "8F9WiRtWjFHO"
      }
    },
    {
      "cell_type": "code",
      "source": [
        "! pip3 install neuron"
      ],
      "metadata": {
        "colab": {
          "base_uri": "https://localhost:8080/"
        },
        "id": "Gm3s2MSM1hb1",
        "outputId": "da90ada4-110d-4e65-9238-063808c3df10"
      },
      "execution_count": null,
      "outputs": [
        {
          "output_type": "stream",
          "name": "stdout",
          "text": [
            "Looking in indexes: https://pypi.org/simple, https://us-python.pkg.dev/colab-wheels/public/simple/\n",
            "Requirement already satisfied: neuron in /usr/local/lib/python3.7/dist-packages (8.1.0)\n",
            "Requirement already satisfied: numpy>=1.9.3 in /usr/local/lib/python3.7/dist-packages (from neuron) (1.21.6)\n"
          ]
        }
      ]
    },
    {
      "cell_type": "markdown",
      "source": [
        "### Load libraries\n",
        "We'll want NEURON's h library and its standard run system. NEURON's crxd and rxd modules are generally interchangable, and while that is true here, for performance reasons, we strongly recommend using crxd here."
      ],
      "metadata": {
        "id": "Wi7qlpim2b6h"
      }
    },
    {
      "cell_type": "code",
      "execution_count": null,
      "metadata": {
        "colab": {
          "base_uri": "https://localhost:8080/"
        },
        "id": "R8YVMYcf1WIw",
        "outputId": "e448515b-c2f8-44f4-970b-3d8749a5b310"
      },
      "outputs": [
        {
          "output_type": "execute_result",
          "data": {
            "text/plain": [
              "1.0"
            ]
          },
          "metadata": {},
          "execution_count": 5
        }
      ],
      "source": [
        "from neuron import h, crxd as rxd\n",
        "h.load_file('stdrun.hoc')"
      ]
    },
    {
      "cell_type": "markdown",
      "source": [
        "We'll also use matplotlib to plot concentrations of circadian proteins over time. We could of course use NEURON's graphics, bokeh, or any other plotting library.\n",
        "\n"
      ],
      "metadata": {
        "id": "lrYABGDJ2flw"
      }
    },
    {
      "cell_type": "code",
      "source": [
        "from matplotlib import pyplot as plt\n"
      ],
      "metadata": {
        "id": "0qTbVum51p_K"
      },
      "execution_count": null,
      "outputs": []
    },
    {
      "cell_type": "markdown",
      "source": [
        "### Units\n",
        "NEURON measures concentrations in mM and time in ms. Leloup et al., 1999, however expresses concentration in nM and time in hours. We could ignore the unit inconsistency and NEURON would still be able to run the simulation, however if we did so, this could cause problems for interacting with other NEURON mechanisms. To avoid this problem, we define nM and hour in terms of NEURON's base units and include the units when specifying parameter values:"
      ],
      "metadata": {
        "id": "eIwTACTk2jSp"
      }
    },
    {
      "cell_type": "code",
      "source": [
        "# (In NEURON 7.7+, we could just do \"from neuron.units import nM, hour\")\n",
        "\n",
        "mM = 1\n",
        "msec = 1\n",
        "nM = 1e-6 * mM\n",
        "sec = 1e3 * msec\n",
        "minute = 60 * sec\n",
        "hour = 60 * minute"
      ],
      "metadata": {
        "id": "eqRv6Y7o1sN3"
      },
      "execution_count": null,
      "outputs": []
    },
    {
      "cell_type": "markdown",
      "source": [
        "### Helper functions for clarity\n",
        "For clarity, we prefer to define parameters and species by just specifying their names and values instead of repeteadly writing rxd.Parameter or rxd.Species. Fortunately, since Python uses keyword arguments and allows functions to modify the global variable dictionary, we can define helper functions that let us do exactly that:"
      ],
      "metadata": {
        "id": "iOVdfB-_2ldb"
      }
    },
    {
      "cell_type": "code",
      "source": [
        "def declare_parameters(**kwargs):\n",
        "    '''enables clean declaration of parameters in top namespace'''\n",
        "    for key, value in kwargs.items():\n",
        "        globals()[key] = rxd.Parameter(r, name=key, initial=value)\n",
        "\n",
        "\n",
        "def declare_species(**kwargs):\n",
        "    '''enables clean declaration of species in top namespace'''\n",
        "    for key, value in kwargs.items():\n",
        "        globals()[key] = rxd.Species(r, name=key, initial=value, atolscale=1e-3 * nM)"
      ],
      "metadata": {
        "id": "bOBrFxHJ1v7i"
      },
      "execution_count": null,
      "outputs": []
    },
    {
      "cell_type": "markdown",
      "source": [
        "We notify NEURON's variable step solver that we want an absolute error tolerance on the order of 1e-3 nM since Leloup et al's concentrations are on the order of 1 nM.\n",
        "\n",
        "You don't need to fully understand the code for these functions; their usage will be clear below, and they can be reused verbatim in many similar models.\n",
        "\n",
        "Beginning in NEURON 7.7, it is possible to declare a Vector and set it to record from a variable in a single line; we duplicate this functionality for older versions of NEURON using the following:"
      ],
      "metadata": {
        "id": "ddSc3gzT2ndD"
      }
    },
    {
      "cell_type": "code",
      "source": [
        "def recorder(ptr):\n",
        "    '''return a vector that records the pointer'''\n",
        "    vec = h.Vector()\n",
        "    vec.record(ptr)\n",
        "    return vec"
      ],
      "metadata": {
        "id": "HKznBmZt1xvk"
      },
      "execution_count": null,
      "outputs": []
    },
    {
      "cell_type": "markdown",
      "source": [
        "### Define the morphology\n",
        "Even though this simulation does not use any electrophysiology, we define the nrn_region to allow the option of easily connecting to electrophysiology kinetics in the future:"
      ],
      "metadata": {
        "id": "30IXqD0Y2tkX"
      }
    },
    {
      "cell_type": "code",
      "source": [
        "cell = h.Section(name='cell')\n",
        "cell.diam = cell.L = 5\n",
        "r = rxd.Region([cell], nrn_region='i')"
      ],
      "metadata": {
        "id": "mP9jiD3a1zvh"
      },
      "execution_count": null,
      "outputs": []
    },
    {
      "cell_type": "markdown",
      "source": [
        "### Parameters\n",
        "Using Parameters instead of numbers makes it easier to rerun simulations. Beginning in NEURON 7.7, the rxd parameters panel allows quickly changing parameter values and rerunning simulations from the graphical user interface.\n",
        "\n",
        "Here we explicitly specify units (defined above) as the units in Leloup et al do not match NEURON's default units. We use the helper function defined above instead of repeatedly writing rxd.Parameter."
      ],
      "metadata": {
        "id": "3Xzx79Nk2wCM"
      }
    },
    {
      "cell_type": "code",
      "source": [
        "declare_parameters(\n",
        "    vsP=1.1 * nM / hour,\n",
        "    vmP=1.0 * nM / hour,\n",
        "    KmP=0.2 * nM,\n",
        "    KIP=1.0 * nM,\n",
        "    ksP=0.9 / hour,\n",
        "    vdP=2.2 * nM / hour,\n",
        "    KdP=0.2 * nM,\n",
        "    vsT=1.0 * nM / hour,\n",
        "    vmT=0.7 * nM / hour,\n",
        "    KmT=0.2 * nM,\n",
        "    KIT=1.0 * nM,\n",
        "    ksT=0.9 / hour,\n",
        "    vdT=3.0 * nM / hour,\n",
        "    KdT=0.2 * nM,\n",
        "    kdC=0.01 * nM / hour,\n",
        "    kdN=0.01 * nM / hour,\n",
        "    k1=0.8 / hour,\n",
        "    k2=0.2 / hour,\n",
        "    k3=1.2 / (nM * hour),\n",
        "    k4=0.6 / hour,\n",
        "    kd=0.01 * nM / hour,\n",
        "    V1P=8.0 * nM / hour,\n",
        "    V1T=8.0 * nM / hour,\n",
        "    V2P=1.0 * nM / hour,\n",
        "    V2T=1.0 * nM / hour,\n",
        "    V3P=8.0 * nM / hour,\n",
        "    V3T=8.0 * nM / hour,\n",
        "    V4P=1.0 * nM / hour,\n",
        "    V4T=1.0 * nM / hour,\n",
        "    K1P=2.0 * nM,\n",
        "    K1T=2.0 * nM,\n",
        "    K2P=2.0 * nM,\n",
        "    K2T=2.0 * nM,\n",
        "    K3P=2.0 * nM,\n",
        "    K3T=2.0 * nM,\n",
        "    K4P=2.0 * nM,\n",
        "    K4T=2.0 * nM,\n",
        "    n=4\n",
        ")"
      ],
      "metadata": {
        "id": "04rMLBZK16Qy"
      },
      "execution_count": null,
      "outputs": []
    },
    {
      "cell_type": "markdown",
      "source": [
        "### Declaring proteins\n",
        "As with the parameters, we declare all the protiens (species), their initial values, and units:"
      ],
      "metadata": {
        "id": "QVQ_wkO32yq3"
      }
    },
    {
      "cell_type": "code",
      "source": [
        "declare_species(\n",
        "    MP=0.0614368 * nM,\n",
        "    P0=0.0169928 * nM,\n",
        "    P1=0.0141356 * nM,\n",
        "    P2=0.0614368 * nM,\n",
        "    MT=0.0860342 * nM,\n",
        "    T0=0.0217261 * nM,\n",
        "    T1=0.0213384 * nM,\n",
        "    T2=0.0145428 * nM,\n",
        "    C=0.207614 * nM,\n",
        "    CN=1.34728 * nM\n",
        ")"
      ],
      "metadata": {
        "id": "1fem5IoT18eZ"
      },
      "execution_count": null,
      "outputs": []
    },
    {
      "cell_type": "markdown",
      "source": [
        "### Reactions\n",
        "For the explanation of the model, see Leloup et al., 1999 or Leloup and Goldbeter 1998. Here we define all the reactions for NEURON. For those reactions that are not governed by mass-action kinetics, we specify custom_dynamics=True."
      ],
      "metadata": {
        "id": "BBBZi8EM23bT"
      }
    },
    {
      "cell_type": "code",
      "source": [
        "MTtranscription = rxd.Rate(MT, vsT * KIT ** n / (KIT ** n + CN ** n))\n",
        "MPtranscription = rxd.Rate(MP, vsP * KIP ** n / (KIP ** n + CN ** n))\n",
        "MTdegradation = rxd.Rate(MT, -(vmT * MT / (KmT + MT) + kd * MT))\n",
        "MPdegradation = rxd.Rate(MP, -(vmP * MP / (KmP + MP) + kd * MP))\n",
        "T0production = rxd.Rate(T0, ksT * MT)\n",
        "T0degradation = rxd.Rate(T0, -kd * T0)\n",
        "T1degradation = rxd.Rate(T1, -kd * T1)\n",
        "T2degradation = rxd.Rate(T2, -kd * T2)\n",
        "T2degradation_due_to_light = rxd.Rate(T2, -vdT * T2 / (KdT + T2))\n",
        "T0toT1 = rxd.Reaction(T0, T1, V1T * T0 / (K1T + T0), V2T * T1 / (K2T + T1), custom_dynamics=True)\n",
        "T1toT2 = rxd.Reaction(T1, T2, V3T * T1 / (K3T + T1), V4T * T2 / (K4T + T2), custom_dynamics=True)\n",
        "P0production = rxd.Rate(P0, ksP * MP)\n",
        "P0degradation = rxd.Rate(P0, -kd * P0)\n",
        "P1degradation = rxd.Rate(P1, -kd * P1)\n",
        "P2degradation = rxd.Rate(P2, -kd * P2 - vdP * P2 / (KdP + P2))\n",
        "P0toP1 = rxd.Reaction(P0, P1, V1P * P0 / (K1P + P0), V2P * P1 / (K2P + P1), custom_dynamics=True)\n",
        "P1toP2 = rxd.Reaction(P1, P2, V3P * P1 / (K3P + P1), V4P * P2 / (K4P + P2), custom_dynamics=True)\n",
        "P2T2toC = rxd.Reaction(P2 + T2, C, 0 + k3, 0 + k4)  # the 0+ works around a bug prior to NEURON 7.7\n",
        "CtoCN = rxd.Reaction(C, CN, 0 + k1, 0 + k2)  # the 0+ works around a bug prior to NEURON 7.7\n",
        "Cdegradation = rxd.Rate(C, -kdC * C)\n",
        "CNdegradation = rxd.Rate(CN, -kdN * CN)"
      ],
      "metadata": {
        "id": "XxbU2QlO1-SQ"
      },
      "execution_count": null,
      "outputs": []
    },
    {
      "cell_type": "markdown",
      "source": [
        "### Record states\n",
        "We define a number of Vectors to record variables of interest. For convenience we use the recorder function defined above:\n",
        "\n",
        "First, and always, we'll record time. Otherwise we won't know how to interpret the remaining variables:"
      ],
      "metadata": {
        "id": "6hFglBRU25yl"
      }
    },
    {
      "cell_type": "code",
      "source": [
        "t = recorder(h._ref_t)\n"
      ],
      "metadata": {
        "id": "4s6k3Hm91_9h"
      },
      "execution_count": null,
      "outputs": []
    },
    {
      "cell_type": "markdown",
      "source": [
        "Now the concentrations:"
      ],
      "metadata": {
        "id": "pVtDLXmD28CM"
      }
    },
    {
      "cell_type": "code",
      "source": [
        "mpvec = recorder(MP.nodes[0]._ref_concentration)\n",
        "cnvec = recorder(CN.nodes[0]._ref_concentration)\n",
        "p0vec = recorder(P0.nodes[0]._ref_concentration)\n",
        "p1vec = recorder(P1.nodes[0]._ref_concentration)\n",
        "p2vec = recorder(P2.nodes[0]._ref_concentration)\n",
        "cvec = recorder(C.nodes[0]._ref_concentration)"
      ],
      "metadata": {
        "id": "Pu4_4pxS2Bcy"
      },
      "execution_count": null,
      "outputs": []
    },
    {
      "cell_type": "markdown",
      "source": [
        "### Run the simulation\n",
        "Since we're running for hours rather than ms, we'll use the variable step solver."
      ],
      "metadata": {
        "id": "zrmgERfn2_Qx"
      }
    },
    {
      "cell_type": "code",
      "source": [
        "h.finitialize(-65)\n",
        "h.CVode().active(True)\n",
        "h.continuerun(72 * hour)"
      ],
      "metadata": {
        "colab": {
          "base_uri": "https://localhost:8080/"
        },
        "id": "SPyT3htf2Dvn",
        "outputId": "b1df066e-6861-4c8b-ddaf-a0639adf4b79"
      },
      "execution_count": null,
      "outputs": [
        {
          "output_type": "execute_result",
          "data": {
            "text/plain": [
              "0.0"
            ]
          },
          "metadata": {},
          "execution_count": 16
        }
      ]
    },
    {
      "cell_type": "markdown",
      "source": [
        "### Plot\n",
        "We begin by converting the units back from NEURON's units to nM and hours to have more intuitive values to display. We also define the variable pt which is the total concentration of PER protein, in any of its forms:"
      ],
      "metadata": {
        "id": "F_jDODGx3BHZ"
      }
    },
    {
      "cell_type": "code",
      "source": [
        "pt = (p0vec.as_numpy() + p1vec + p2vec + cvec + cnvec) / nM\n",
        "mp = mpvec.as_numpy() / nM\n",
        "cn = cnvec.as_numpy() / nM\n",
        "t_in_hours = t.as_numpy() / hour"
      ],
      "metadata": {
        "id": "Cm92IznD2Fi6"
      },
      "execution_count": null,
      "outputs": []
    },
    {
      "cell_type": "markdown",
      "source": [
        "Finally the actual plot, which you can compare to Figure 2A of Leloup et al., 1999."
      ],
      "metadata": {
        "id": "dUP1QSLX3DBu"
      }
    },
    {
      "cell_type": "code",
      "source": [
        "plt.figure(figsize=(8, 6))\n",
        "plt.plot(t_in_hours, mp, label='MP')\n",
        "plt.plot(t_in_hours, cn, label='CN')\n",
        "plt.plot(t_in_hours, pt, label='PT')\n",
        "plt.legend()\n",
        "plt.xlabel('t (hours)')\n",
        "plt.ylabel('concentration (nM)')\n",
        "plt.show()"
      ],
      "metadata": {
        "colab": {
          "base_uri": "https://localhost:8080/",
          "height": 389
        },
        "id": "tCxnTbdQ2HBs",
        "outputId": "1b5002c4-00d1-4465-e347-14ff28110afc"
      },
      "execution_count": null,
      "outputs": [
        {
          "output_type": "display_data",
          "data": {
            "text/plain": [
              "<Figure size 576x432 with 1 Axes>"
            ],
            "image/png": "[encoded data removed]"
          },
          "metadata": {
            "needs_background": "light"
          }
        }
      ]
    },
    {
      "cell_type": "markdown",
      "source": [
        "Well done, you have plotted a circadian rhythm from the model! Try changing the intial pararemters and explore how tat effects your resulting rhythms."
      ],
      "metadata": {
        "id": "3CHVicL6jamW"
      }
    }
  ]
}