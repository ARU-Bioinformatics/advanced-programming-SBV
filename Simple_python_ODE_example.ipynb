{
  "nbformat": 4,
  "nbformat_minor": 0,
  "metadata": {
    "kernelspec": {
      "display_name": "Python 3",
      "language": "python",
      "name": "python3"
    },
    "language_info": {
      "codemirror_mode": {
        "name": "ipython",
        "version": 3
      },
      "file_extension": ".py",
      "mimetype": "text/x-python",
      "name": "python",
      "nbconvert_exporter": "python",
      "pygments_lexer": "ipython3",
      "version": "3.7.0"
    },
    "colab": {
      "name": "Simple_python_ODE_example.ipynb",
      "provenance": [],
      "collapsed_sections": [],
      "include_colab_link": true
    }
  },
  "cells": [
    {
      "cell_type": "markdown",
      "metadata": {
        "id": "view-in-github",
        "colab_type": "text"
      },
      "source": [
        "<a href=\"https://colab.research.google.com/github/ARU-Bioinformatics/advanced-programming-SBV/blob/main/Simple_python_ODE_example.ipynb\" target=\"_parent\"><img src=\"https://colab.research.google.com/assets/colab-badge.svg\" alt=\"Open In Colab\"/></a>"
      ]
    },
    {
      "cell_type": "markdown",
      "source": [
        "# Simple ODE simulation"
      ],
      "metadata": {
        "id": "zL5zo0f9VZMr"
      }
    },
    {
      "cell_type": "code",
      "metadata": {
        "id": "sCYHowlDimQr"
      },
      "source": [
        "import numpy as np\n",
        "import pandas as pd\n",
        "import matplotlib.pyplot as plt\n",
        "from scipy.integrate import odeint"
      ],
      "execution_count": 1,
      "outputs": []
    },
    {
      "cell_type": "markdown",
      "source": [
        "lets simulate a system with the following behviour:\n",
        "\n",
        "$dy/dt = a*y$                                                 \n",
        "\n",
        "Here, we call the solution y(t), where y(t) is a vector that contains all the time dependent variables (here this is just [y(t)])\n",
        "\n",
        "In order to run a simulation, we need to define our ordinary differential equations (ODE) by a function.\n",
        "The input to this function is the state of the three groups in a single time point - y, and compute how they change  - dy"
      ],
      "metadata": {
        "id": "Mft69SI_VNNb"
      }
    },
    {
      "cell_type": "code",
      "metadata": {
        "id": "dL_TGrpEimQ6"
      },
      "source": [
        "\n",
        "def ParametricNDSolveValue(y,t):\n",
        "        a  = 0.1   #it is optional to define the parameters within the ODE function\n",
        "        dy = np.empty(1)\n",
        "        dy[0] = a*y\n",
        "        return dy\n"
      ],
      "execution_count": 2,
      "outputs": []
    },
    {
      "cell_type": "markdown",
      "source": [
        "Finally, in order to run the simulation we will use a off-the shelf ODE solver, provided within scipy.integrate package\n",
        "\n",
        "The first argument that this solver recives is the ODE function that we defined.\n",
        "The seconde argument is the intial condition, lets start with y(0) = 1.\n",
        "The third argument is the timeframe of the simulation (t0,tmax)\n",
        "\n",
        "lets simulate 100 days. In order to do so, I use numpy packge to create a vector of 100 days - "
      ],
      "metadata": {
        "id": "YZcnZB-eVfy7"
      }
    },
    {
      "cell_type": "code",
      "source": [
        "t0   = 0\n",
        "tmax = 100\n",
        "dt   = 1\n",
        "time = np.arange(t0,tmax,dt)\n",
        "\n",
        "y0   = 1\n",
        "sol  = odeint(ParametricNDSolveValue,y0,time)"
      ],
      "metadata": {
        "id": "9xc4oMsvVenX"
      },
      "execution_count": 3,
      "outputs": []
    },
    {
      "cell_type": "markdown",
      "source": [
        "Finally, I create a Dataframe from the solution in order to plot it nice and easy\n",
        "Dataframe is a great way to store and handel information in python."
      ],
      "metadata": {
        "id": "NxUsMXbFVlxQ"
      }
    },
    {
      "cell_type": "code",
      "source": [
        "\n",
        "df = pd.DataFrame(sol,columns=['y'],index = time)\n",
        "df.plot()\n",
        "plt.xlabel('Time (Days)')\n",
        "plt.ylabel('y(t)')\n",
        "plt.show()"
      ],
      "metadata": {
        "id": "f8zxmNVKVkg7",
        "colab": {
          "base_uri": "https://localhost:8080/",
          "height": 279
        },
        "outputId": "2b77c7ba-0ab2-40d6-ced7-f1df19cf3688"
      },
      "execution_count": 4,
      "outputs": [
        {
          "output_type": "display_data",
          "data": {
            "text/plain": [
              "<Figure size 432x288 with 1 Axes>"
            ],
            "image/png": "[encoded data removed]"
          },
          "metadata": {
            "needs_background": "light"
          }
        }
      ]
    },
    {
      "cell_type": "markdown",
      "source": [
        "Lets check that this is true,\n",
        "The solution y(t) for $dy/dt = a*y$ is:\n",
        "$y(t) = e**(ay)$\n",
        "\n",
        "lets plot the analytical solution y(t), and compare it to our numerical simulation:"
      ],
      "metadata": {
        "id": "FieOHMbJVp_1"
      }
    },
    {
      "cell_type": "code",
      "metadata": {
        "id": "Pfvsyv9jimRI"
      },
      "source": [
        "\n",
        "a = 0.1;\n",
        "y = [] # create empty list to store y values in range t0-tmax\n",
        "for t in time:\n",
        "    y.append( np.e**(a*t) )\n",
        "    \n"
      ],
      "execution_count": 5,
      "outputs": []
    },
    {
      "cell_type": "markdown",
      "source": [
        "It is possible to write the whole loop within one line:\n",
        "y = [np.e**(a*t) for t in time]"
      ],
      "metadata": {
        "id": "8nByebSPV1r1"
      }
    },
    {
      "cell_type": "code",
      "source": [
        "plt.plot(time,y,lw=3)\n",
        "plt.plot(df,'--r',lw=3)\n",
        "plt.legend(['analytical solution','numeric simulation'])\n",
        "plt.xlabel('Time (Days)')\n",
        "plt.ylabel('y(t)')\n",
        "plt.show()"
      ],
      "metadata": {
        "id": "5-GiDFDtV0mp",
        "colab": {
          "base_uri": "https://localhost:8080/",
          "height": 279
        },
        "outputId": "dc7b91e1-a722-43f5-83b3-a2009e51882b"
      },
      "execution_count": 6,
      "outputs": [
        {
          "output_type": "display_data",
          "data": {
            "text/plain": [
              "<Figure size 432x288 with 1 Axes>"
            ],
            "image/png": "[encoded data removed]"
          },
          "metadata": {
            "needs_background": "light"
          }
        }
      ]
    },
    {
      "cell_type": "markdown",
      "source": [
        "We can think of more complex case, where:\n",
        "\n",
        "$dx1/dt = a*x2 - b*x1$        \n",
        "\n",
        "$dx2/dt = c    - d*x2$                                            \n",
        "In this case, y(t) is a vector [x1(t),x2(t)]\n"
      ],
      "metadata": {
        "id": "RNEMb8_wV-OX"
      }
    },
    {
      "cell_type": "code",
      "metadata": {
        "id": "cZ1WLIqDimRT",
        "outputId": "f76d9aa7-df37-4a76-9590-d02c42ac8872",
        "colab": {
          "base_uri": "https://localhost:8080/",
          "height": 282
        }
      },
      "source": [
        "\n",
        "def ParametricNDSolveTwoValues(y,t):\n",
        "        [x1,x2] = y\n",
        "        \n",
        "        a = 1; b = 2; c = 0.5; d = 1\n",
        "        \n",
        "        dy = np.empty(2)\n",
        "        dy[0] = a*x2 - b*x1 \n",
        "        dy[1] = c    - d*x2\n",
        "        return dy\n",
        "\n",
        "t0   = 0\n",
        "tmax = 10\n",
        "dt   = 0.1\n",
        "time = np.arange(t0,tmax,dt)\n",
        "sol  = odeint(ParametricNDSolveTwoValues,[1,0],time)\n",
        "df   = pd.DataFrame(sol,columns=['x1','x2'])\n",
        "df.plot()"
      ],
      "execution_count": 7,
      "outputs": [
        {
          "output_type": "execute_result",
          "data": {
            "text/plain": [
              "<matplotlib.axes._subplots.AxesSubplot at 0x7f752cd31cd0>"
            ]
          },
          "metadata": {},
          "execution_count": 7
        },
        {
          "output_type": "display_data",
          "data": {
            "text/plain": [
              "<Figure size 432x288 with 1 Axes>"
            ],
            "image/png": "[encoded data removed]"
          },
          "metadata": {
            "needs_background": "light"
          }
        }
      ]
    },
    {
      "cell_type": "markdown",
      "metadata": {
        "id": "1T1DZuZnimRf"
      },
      "source": [
        ""
      ]
    }
  ]
}