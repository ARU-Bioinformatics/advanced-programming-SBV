{
  "cells": [
    {
      "cell_type": "markdown",
      "metadata": {
        "id": "view-in-github",
        "colab_type": "text"
      },
      "source": [
        "<a href=\"https://colab.research.google.com/github/ARU-Bioinformatics/advanced-programming-SBV/blob/main/Differential_expression_analysis_in_R.ipynb\" target=\"_parent\"><img src=\"https://colab.research.google.com/assets/colab-badge.svg\" alt=\"Open In Colab\"/></a>"
      ]
    },
    {
      "cell_type": "markdown",
      "source": [
        "# Differential gene expression analysis using R"
      ],
      "metadata": {
        "id": "rrHANp5kU3mJ"
      },
      "id": "rrHANp5kU3mJ"
    },
    {
      "cell_type": "markdown",
      "source": [
        "### Prepare the working environment \n",
        "This first code cell installs the needed packages (leave 30 mins for this to be run)\n",
        "\n",
        "*   Install the subread package\n",
        "*   Install the seqinr package\n",
        "*   Install the DESeq2 package"
      ],
      "metadata": {
        "id": "F2IvRw5lYE_a"
      },
      "id": "F2IvRw5lYE_a"
    },
    {
      "cell_type": "code",
      "source": [
        "if (!requireNamespace(\"BiocManager\", quietly = TRUE))\n",
        "install.packages(\"BiocManager\")\n",
        "install.packages(\"ggpubr\")\n",
        "BiocManager::install(\"Rsubread\")\n",
        "BiocManager::install(\"DESeq2\")\n",
        "install.packages(\"seqinr\")"
      ],
      "metadata": {
        "id": "BZneM01rSOjr"
      },
      "id": "BZneM01rSOjr",
      "execution_count": null,
      "outputs": []
    },
    {
      "cell_type": "markdown",
      "source": [
        "Load the required packages for the first step of the process"
      ],
      "metadata": {
        "id": "kr1XYO5IoYky"
      },
      "id": "kr1XYO5IoYky"
    },
    {
      "cell_type": "code",
      "source": [
        "library(Rsubread)\n",
        "library(seqinr)"
      ],
      "metadata": {
        "id": "FToyl_h1SaGR"
      },
      "id": "FToyl_h1SaGR",
      "execution_count": null,
      "outputs": []
    },
    {
      "cell_type": "markdown",
      "source": [
        "## Part 1.\n",
        "The following steps go through how to do get count data from fastq files. In a previous week we did this from the command line, and used kallisto quant. You could input your data from that notebook directly into section 2 below. Part 1 is included here to show an additional way of generating RNA-seq count, and you will see how thgis format is directly ammeanable to DESeq2."
      ],
      "metadata": {
        "id": "6G8wIOZ0YxLe"
      },
      "id": "6G8wIOZ0YxLe"
    },
    {
      "cell_type": "code",
      "source": [
        "# Create and set the working directory\n",
        "dir.create(\"~/Demo_alignment\")\n",
        "setwd(\"~/Demo_alignment\")"
      ],
      "metadata": {
        "id": "OQGTeCB7SbF-"
      },
      "id": "OQGTeCB7SbF-",
      "execution_count": null,
      "outputs": []
    },
    {
      "cell_type": "markdown",
      "source": [
        "### From the raw reads to the aligned reads: single end\n",
        "*   In this step we upload and inspect the reference fasta file and the reads \n",
        "*   We are using demo reference reads fasta files; the lines below assign to the variable ''reference'' and ''reads'' the path to the fasta file  and reads file respectively"
      ],
      "metadata": {
        "id": "kN-xXbpLo2GY"
      },
      "id": "kN-xXbpLo2GY"
    },
    {
      "cell_type": "code",
      "source": [
        "reference <- system.file(\"extdata\",\"reference.fa\",package=\"Rsubread\")\n",
        "reads <- system.file(\"extdata\",\"reads.txt.gz\",package=\"Rsubread\")\n",
        "\n",
        "# Saves the reads and fasta files so that we can  inspect it  \n",
        "\n",
        "reference_sample <- read.delim(reference, header = F)\n",
        "reads_sample <- read.delim(reads, header = F)\n",
        "\n",
        "write.table(reference_sample, file = \"reference.fa\", row.names = F, col.names = F, quote = F) \n",
        "write.table(reads_sample, file = \"reads.fq\", row.names = F, col.names = F, quote = F) "
      ],
      "metadata": {
        "id": "mjY58QJQSf1m"
      },
      "id": "mjY58QJQSf1m",
      "execution_count": null,
      "outputs": []
    },
    {
      "cell_type": "markdown",
      "source": [
        "*    Similar to using commandline tools we can perform some initial stats on the reads. We will express in numbers the phread quality score of each read"
      ],
      "metadata": {
        "id": "4q1dXTlrpLNX"
      },
      "id": "4q1dXTlrpLNX"
    },
    {
      "cell_type": "code",
      "source": [
        "qual_score <- qualityScores(filename=reads,offset=64,nreads=1000)\n",
        "\n",
        "View(qual_score)\n",
        "\n",
        "#plots a sample quality score\n",
        "plot(qual_score[1,], type=\"h\")\n",
        "\n",
        "atgcContent(reads)"
      ],
      "metadata": {
        "id": "rWsJ-Me3Sl0b"
      },
      "id": "rWsJ-Me3Sl0b",
      "execution_count": null,
      "outputs": []
    },
    {
      "cell_type": "markdown",
      "source": [
        "*    Now we can perform and process the alignment\n"
      ],
      "metadata": {
        "id": "Z_hhA2oLpZ4s"
      },
      "id": "Z_hhA2oLpZ4s"
    },
    {
      "cell_type": "code",
      "source": [
        "# Builds an index based on the reference fasta file\n",
        "buildindex(basename=\"./reference_index\",reference=reference)\n",
        "\n",
        "# Aligns the reads to the reference\n",
        "align.stat_SE <- align(index = \"./reference_index\", readfile1 = reads, output_format = \"SAM\",\n",
        "                    output_file = \"./aligned_reads_SE.SAM\", phredOffset = 64, nthreads=5)\n",
        "\n",
        "# Prints the alignment statistics on the console\n",
        "align.stat_SE"
      ],
      "metadata": {
        "id": "Wct1LraDSpqT"
      },
      "id": "Wct1LraDSpqT",
      "execution_count": null,
      "outputs": []
    },
    {
      "cell_type": "markdown",
      "source": [
        "### From the raw reads to the aligned reads: paired end\n",
        "*   The following steps show you how to process paired end data (which ideally in 2022 would be what we handled)"
      ],
      "metadata": {
        "id": "T8oUkYlipgHx"
      },
      "id": "T8oUkYlipgHx"
    },
    {
      "cell_type": "code",
      "source": [
        "reads1 <- system.file(\"extdata\",\"reads1.txt.gz\",package=\"Rsubread\")\n",
        "reads2 <- system.file(\"extdata\",\"reads2.txt.gz\",package=\"Rsubread\")"
      ],
      "metadata": {
        "id": "NbWLRKN-St4t"
      },
      "id": "NbWLRKN-St4t",
      "execution_count": null,
      "outputs": []
    },
    {
      "cell_type": "code",
      "source": [
        "# Saves the reads files so that we can  inspect it  \n",
        "\n",
        "reads_sample1 <- read.delim(reads1, header = F)\n",
        "reads_sample2 <- read.delim(reads2, header = F)\n",
        "\n",
        "write.table(reads_sample1, file = \"reads1.fq\", row.names = F, col.names = F, quote = F) \n",
        "write.table(reads_sample2, file = \"reads2.fq\", row.names = F, col.names = F, quote = F) \n",
        "\n",
        "# Aligns the reads to the reference\n",
        "align.stat_PE <- align(index=\"reference_index\",readfile1=reads1,readfile2=reads2,output_format = \"SAM\", output_file=\"aligned_reads_PE.SAM\", phredOffset=64, nthreads=5)\n",
        "\n",
        "# Prints the alignment statistics on the console\n",
        "align.stat_PE"
      ],
      "metadata": {
        "id": "Jt-jE0ICSxmV"
      },
      "id": "Jt-jE0ICSxmV",
      "execution_count": null,
      "outputs": []
    },
    {
      "cell_type": "markdown",
      "source": [
        "### From aligned reads to counts\n",
        "*   Now that we have aligned reads we can generate counts. \n",
        "*   Our first step is having the annotations of genes in the reference genome. Here we are writing the file for ourselves, but you can download the annotation in bed format for any trasncriptome for this stage.\n"
      ],
      "metadata": {
        "id": "zaYGkS5_pycV"
      },
      "id": "zaYGkS5_pycV"
    },
    {
      "cell_type": "code",
      "source": [
        "# Annotates the reference fasta file\n",
        "Annotation <- data.frame(GeneID=c(\"gene1\",\"gene1\",\"gene2\",\"gene2\"), \n",
        "                         Chr=\"chr_dummy\", Start=c(100,1000,3000,5000),\n",
        "                         End=c(500,1800,4000,5500), \n",
        "                         Strand=c(\"+\",\"+\",\"-\",\"-\"), \n",
        "                         stringsAsFactors=FALSE)\n",
        "\n",
        "# Prints the Annotation dataframe on the console\n",
        "Annotation"
      ],
      "metadata": {
        "id": "iU8v81NlS1jX"
      },
      "id": "iU8v81NlS1jX",
      "execution_count": null,
      "outputs": []
    },
    {
      "cell_type": "code",
      "source": [
        "# Uses featureCounts to assign the reads to the annotated features\n",
        "\n",
        "Counts_SE <- featureCounts(\"aligned_reads_SE.SAM\",annot.ext=Annotation)\n",
        "\n",
        "Counts_PE <- featureCounts(\"aligned_reads_PE.SAM\",annot.ext=Annotation, isPairedEnd=TRUE)\n",
        "\n",
        "# Prints the counts per gene on the console\n",
        "Counts_SE$counts\n",
        "\n",
        "#Prints the counts statistics on the console\n",
        "\n",
        "Counts_SE$stat\n",
        "\n",
        "print(\"So far, so good, part 1 completed!\")\n"
      ],
      "metadata": {
        "id": "AhSA2PExSIP4"
      },
      "id": "AhSA2PExSIP4",
      "execution_count": null,
      "outputs": []
    },
    {
      "cell_type": "markdown",
      "source": [
        "## Part 2 - identifiying differentially expressed genes\n",
        "*   Our first step is to load the required package - DESeq2\n",
        "*   These steps take an alignment performed using the packages from part 1. If you are using the input from kallisto quant then you will need to explore your matrix file and get it to resemble the output above.\n"
      ],
      "metadata": {
        "id": "0YQlv0dpY_Gy"
      },
      "id": "0YQlv0dpY_Gy"
    },
    {
      "cell_type": "code",
      "source": [
        "library(\"DESeq2\")"
      ],
      "metadata": {
        "id": "kRhMFcDrVYBK"
      },
      "id": "kRhMFcDrVYBK",
      "execution_count": null,
      "outputs": []
    },
    {
      "cell_type": "markdown",
      "source": [
        "### Activity 1:\n",
        "For DESe12 to be run we need a table summarising the samples used in the experiment. The table layout and name for this experiment is given below. Write code in R to make this table as a data frame and save as an object called `coldata`"
      ],
      "metadata": {
        "id": "xb2I8R3xZ695"
      },
      "id": "xb2I8R3xZ695"
    },
    {
      "cell_type": "code",
      "source": [
        "##            condition        type\n",
        "## reads1     treated paired-read\n",
        "## reads2     untreated  paired-end"
      ],
      "metadata": {
        "id": "5prONh85ZX6s"
      },
      "id": "5prONh85ZX6s",
      "execution_count": null,
      "outputs": []
    },
    {
      "cell_type": "code",
      "source": [
        "# my code to write a data frame called coldata that looks like the table above"
      ],
      "metadata": {
        "id": "b3rNbrtQaNF2"
      },
      "id": "b3rNbrtQaNF2",
      "execution_count": null,
      "outputs": []
    },
    {
      "cell_type": "markdown",
      "source": [
        "*    The output from Rsubread can be inputted straight into DESeq2, using the `DESeqDataSetFromMatrix` function."
      ],
      "metadata": {
        "id": "Na0UXcwDqqcE"
      },
      "id": "Na0UXcwDqqcE"
    },
    {
      "cell_type": "code",
      "source": [
        "dds <- DESeqDataSetFromMatrix(countData = Counts_PE,\n",
        "                              colData = coldata,\n",
        "                              design = ~ condition)\n",
        "dds"
      ],
      "metadata": {
        "id": "KeaodvclVW3O"
      },
      "id": "KeaodvclVW3O",
      "execution_count": null,
      "outputs": []
    },
    {
      "cell_type": "markdown",
      "source": [
        "*   Now we have inpout ready for doing our statisitical tests of differnetial expression."
      ],
      "metadata": {
        "id": "c_G7mjaaq_KO"
      },
      "id": "c_G7mjaaq_KO"
    },
    {
      "cell_type": "code",
      "source": [
        "dds <- DESeq(dds)\n",
        "res <- results(dds)\n",
        "res"
      ],
      "metadata": {
        "id": "tm0WLNhSWtX5"
      },
      "id": "tm0WLNhSWtX5",
      "execution_count": null,
      "outputs": []
    },
    {
      "cell_type": "markdown",
      "source": [
        "*    Plot the results using the inbuilt function to use base R plots"
      ],
      "metadata": {
        "id": "6HkZ_1EsrEgz"
      },
      "id": "6HkZ_1EsrEgz"
    },
    {
      "cell_type": "code",
      "source": [
        "plotMA(res, ylim=c(-2,2))"
      ],
      "metadata": {
        "id": "SP51J-vpXr7v"
      },
      "id": "SP51J-vpXr7v",
      "execution_count": null,
      "outputs": []
    },
    {
      "cell_type": "markdown",
      "source": [
        "To make quick nice DE plots use ggpubr. As the name hints, this package makes publication ready plots using ggplot. It has a nice preloaded dataset called diff_express that can be used to showcase what it can do! The code cells below give you some examples with that dataset."
      ],
      "metadata": {
        "id": "zwzkiYajUo6k"
      },
      "id": "zwzkiYajUo6k"
    },
    {
      "cell_type": "code",
      "source": [
        "# First have a look at the data, so you know what you are plotting\n",
        "head(diff_express)"
      ],
      "metadata": {
        "id": "a4aWkpxgRAtV"
      },
      "id": "a4aWkpxgRAtV",
      "execution_count": null,
      "outputs": []
    },
    {
      "cell_type": "code",
      "source": [
        "# Default plot\n",
        "ggmaplot(diff_express, main = expression(\"Group 1\" %->% \"Group 2\"),\n",
        "   fdr = 0.05, fc = 2, size = 0.4,\n",
        "   palette = c(\"#B31B21\", \"#1465AC\", \"darkgray\"),\n",
        "   genenames = as.vector(diff_express$name),\n",
        "   legend = \"top\", top = 20,\n",
        "   font.label = c(\"bold\", 11),\n",
        "   font.legend = \"bold\",\n",
        "   font.main = \"bold\",\n",
        "   ggtheme = ggplot2::theme_minimal())"
      ],
      "metadata": {
        "id": "UvJgq7CVPi9K"
      },
      "id": "UvJgq7CVPi9K",
      "execution_count": null,
      "outputs": []
    },
    {
      "cell_type": "code",
      "source": [
        "# Add rectangle around labesl\n",
        "ggmaplot(diff_express, main = expression(\"Group 1\" %->% \"Group 2\"),\n",
        "   fdr = 0.05, fc = 2, size = 0.4,\n",
        "   palette = c(\"#B31B21\", \"#1465AC\", \"darkgray\"),\n",
        "   genenames = as.vector(diff_express$name),\n",
        "   legend = \"top\", top = 20,\n",
        "   font.label = c(\"bold\", 11), label.rectangle = TRUE,\n",
        "   font.legend = \"bold\",\n",
        "   font.main = \"bold\",\n",
        "   ggtheme = ggplot2::theme_minimal())"
      ],
      "metadata": {
        "id": "aC0ZLdhnRO_8"
      },
      "id": "aC0ZLdhnRO_8",
      "execution_count": null,
      "outputs": []
    },
    {
      "cell_type": "markdown",
      "source": [
        "### Activity 2: \n",
        "Now you know how to do differential expression run the notebook, and then add in some code below to make a nice ggpubr graph of the differential expression data you analysed above."
      ],
      "metadata": {
        "id": "Afo5cx62XzsG"
      },
      "id": "Afo5cx62XzsG"
    },
    {
      "cell_type": "code",
      "source": [
        "## your code for ggpubr here"
      ],
      "metadata": {
        "id": "xobHaRLsXzDl"
      },
      "id": "xobHaRLsXzDl",
      "execution_count": null,
      "outputs": []
    }
  ],
  "metadata": {
    "kernelspec": {
      "display_name": "R",
      "language": "R",
      "name": "ir"
    },
    "language_info": {
      "codemirror_mode": "r",
      "file_extension": ".r",
      "mimetype": "text/x-r-source",
      "name": "R",
      "pygments_lexer": "r",
      "version": "3.5.1"
    },
    "colab": {
      "name": "Differential expression analysis in R",
      "provenance": [],
      "collapsed_sections": [],
      "include_colab_link": true
    }
  },
  "nbformat": 4,
  "nbformat_minor": 5
}