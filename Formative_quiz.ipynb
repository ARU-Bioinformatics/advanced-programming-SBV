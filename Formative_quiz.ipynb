{
  "nbformat": 4,
  "nbformat_minor": 0,
  "metadata": {
    "colab": {
      "name": "Formative quiz.ipynb",
      "provenance": [],
      "collapsed_sections": [],
      "authorship_tag": "ABX9TyNlcCjX/pq/yoBxCY5pZwDO",
      "include_colab_link": true
    },
    "kernelspec": {
      "name": "python3",
      "display_name": "Python 3"
    },
    "language_info": {
      "name": "python"
    }
  },
  "cells": [
    {
      "cell_type": "markdown",
      "metadata": {
        "id": "view-in-github",
        "colab_type": "text"
      },
      "source": [
        "<a href=\"https://colab.research.google.com/github/ARU-Bioinformatics/advanced-programming-SBV/blob/main/Formative_quiz.ipynb\" target=\"_parent\"><img src=\"https://colab.research.google.com/assets/colab-badge.svg\" alt=\"Open In Colab\"/></a>"
      ]
    },
    {
      "cell_type": "markdown",
      "source": [
        "# Formative quiz\n",
        "\n",
        "For each question render the solution in python,  and include matplotlib graphs where appropriate to visualise functions, derivatives and rates of change. The questions assess both algebra and calculus, and are not ordered in strength of difficulty."
      ],
      "metadata": {
        "id": "fh4l6tAwkW2i"
      }
    },
    {
      "cell_type": "markdown",
      "source": [
        "##Question 1\n",
        "If $log_2x=5$, what is the value of $x$?"
      ],
      "metadata": {
        "id": "VniAKyEkkj_R"
      }
    },
    {
      "cell_type": "code",
      "execution_count": null,
      "metadata": {
        "id": "OKWQga3rkVp3"
      },
      "outputs": [],
      "source": [
        "x ="
      ]
    },
    {
      "cell_type": "markdown",
      "source": [
        "##Question 2\n",
        "$2^n=128$ What is the value of $n$?"
      ],
      "metadata": {
        "id": "wELbBto3lF6I"
      }
    },
    {
      "cell_type": "code",
      "source": [
        "n ="
      ],
      "metadata": {
        "id": "1PnZt1Y6liH-"
      },
      "execution_count": null,
      "outputs": []
    },
    {
      "cell_type": "markdown",
      "source": [
        "##Question 3\n",
        "What is the value of $log_464$?"
      ],
      "metadata": {
        "id": "HFnHMQyKlmIP"
      }
    },
    {
      "cell_type": "code",
      "source": [
        ""
      ],
      "metadata": {
        "id": "Au8STmpEllO9"
      },
      "execution_count": null,
      "outputs": []
    },
    {
      "cell_type": "markdown",
      "source": [
        "##Question 4\n",
        "Find the equation of the tangent to the curve with equation $y=3x^2+2x−5$ at the point where $x = - 2$"
      ],
      "metadata": {
        "id": "JYyua0NZmWeq"
      }
    },
    {
      "cell_type": "code",
      "source": [
        ""
      ],
      "metadata": {
        "id": "t7iXm13Bmm9Q"
      },
      "execution_count": null,
      "outputs": []
    },
    {
      "cell_type": "markdown",
      "source": [
        "##Question 5\n",
        "Find $dy/dx $ when $y= (x^2 + 5)^9$"
      ],
      "metadata": {
        "id": "qOYRfc6AnG8H"
      }
    },
    {
      "cell_type": "code",
      "source": [
        ""
      ],
      "metadata": {
        "id": "hUOh0CYinwpW"
      },
      "execution_count": null,
      "outputs": []
    },
    {
      "cell_type": "markdown",
      "source": [
        "##Question 6\n",
        "Find $dy/dx$ when $y=7sin⁡x+cos⁡x$"
      ],
      "metadata": {
        "id": "KJrcC3YFn0Gl"
      }
    },
    {
      "cell_type": "code",
      "source": [
        ""
      ],
      "metadata": {
        "id": "mZ7Ic_VjoFNU"
      },
      "execution_count": null,
      "outputs": []
    },
    {
      "cell_type": "markdown",
      "source": [
        "##Question 7\n",
        "Differentiate $y = 4x - 2sinx$"
      ],
      "metadata": {
        "id": "UAc0-MlaoTT4"
      }
    },
    {
      "cell_type": "code",
      "source": [
        ""
      ],
      "metadata": {
        "id": "hh-8PDZ7ocqr"
      },
      "execution_count": null,
      "outputs": []
    },
    {
      "cell_type": "markdown",
      "source": [
        "##Question 8\n",
        "Differentiate $y = x^5$"
      ],
      "metadata": {
        "id": "I9Mc8dG6orEm"
      }
    },
    {
      "cell_type": "code",
      "source": [
        ""
      ],
      "metadata": {
        "id": "G-wSwMWGo1eO"
      },
      "execution_count": null,
      "outputs": []
    },
    {
      "cell_type": "markdown",
      "source": [
        "##Question 9\n",
        "Find the rate of change of $f(x)=4x^−2$ at $x=3$"
      ],
      "metadata": {
        "id": "CCTaS4YjpAVy"
      }
    },
    {
      "cell_type": "code",
      "source": [
        ""
      ],
      "metadata": {
        "id": "A_uK2GImwNf6"
      },
      "execution_count": null,
      "outputs": []
    },
    {
      "cell_type": "markdown",
      "source": [
        "##Question 10\n",
        "Find $∫(x^4+x^3)dx$"
      ],
      "metadata": {
        "id": "l3prc0vYpKi2"
      }
    },
    {
      "cell_type": "code",
      "source": [
        ""
      ],
      "metadata": {
        "id": "myrZuWAgp_Qs"
      },
      "execution_count": null,
      "outputs": []
    },
    {
      "cell_type": "markdown",
      "source": [
        "##Question 11\n",
        "Find $∫(x+2)^2 dx$"
      ],
      "metadata": {
        "id": "BjtH5RHXp_-R"
      }
    },
    {
      "cell_type": "code",
      "source": [
        ""
      ],
      "metadata": {
        "id": "mbkF3C3cvx7C"
      },
      "execution_count": null,
      "outputs": []
    },
    {
      "cell_type": "markdown",
      "source": [
        "## Question 12\n",
        "Is $8x+7x^2$ a polynomial?"
      ],
      "metadata": {
        "id": "tR2BTntFqqN4"
      }
    },
    {
      "cell_type": "code",
      "source": [
        ""
      ],
      "metadata": {
        "id": "e9LZQwVkvxWA"
      },
      "execution_count": null,
      "outputs": []
    },
    {
      "cell_type": "markdown",
      "source": [
        "##Question 13\n",
        "Solve for $x>0, log_p12−log_px=log_p$"
      ],
      "metadata": {
        "id": "40BTYcXFrI7A"
      }
    },
    {
      "cell_type": "code",
      "source": [
        ""
      ],
      "metadata": {
        "id": "Ls3sE9ZRvwvA"
      },
      "execution_count": null,
      "outputs": []
    },
    {
      "cell_type": "markdown",
      "source": [
        "##Question 14\n",
        "$f(x)=10x+7$\n",
        "\n",
        "$g(x)=3x$\n",
        "\n",
        "Find $f(g(x))$"
      ],
      "metadata": {
        "id": "pQEhILzotwGv"
      }
    },
    {
      "cell_type": "code",
      "source": [
        ""
      ],
      "metadata": {
        "id": "xd34fJ6NvwDk"
      },
      "execution_count": null,
      "outputs": []
    },
    {
      "cell_type": "markdown",
      "source": [
        "##Question 15\n",
        "A receptor protein is shuttled from cytosol to nucleus. The distance it has moved, $D$ metres, since first measurement is given by $D(t)=100t+5t^2$, where t is the length of time in seconds since measurement begins after a stimulus is applied.\n",
        "How fast was the protein travelling after 10 seconds?"
      ],
      "metadata": {
        "id": "lvTHdzBZvCK_"
      }
    },
    {
      "cell_type": "code",
      "source": [
        ""
      ],
      "metadata": {
        "id": "udC3rSC8vvIg"
      },
      "execution_count": null,
      "outputs": []
    }
  ]
}